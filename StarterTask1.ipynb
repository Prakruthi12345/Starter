{
  "nbformat": 4,
  "nbformat_minor": 0,
  "metadata": {
    "colab": {
      "name": "StarterTask1.ipynb",
      "provenance": [],
      "authorship_tag": "ABX9TyNRoF7ppfQ3M2A+jgxGvP3w",
      "include_colab_link": true
    },
    "kernelspec": {
      "name": "python3",
      "display_name": "Python 3"
    },
    "language_info": {
      "name": "python"
    }
  },
  "cells": [
    {
      "cell_type": "markdown",
      "metadata": {
        "id": "view-in-github",
        "colab_type": "text"
      },
      "source": [
        "<a href=\"https://colab.research.google.com/github/Prakruthi12345/Starter/blob/main/StarterTask1.ipynb\" target=\"_parent\"><img src=\"https://colab.research.google.com/assets/colab-badge.svg\" alt=\"Open In Colab\"/></a>"
      ]
    },
    {
      "cell_type": "code",
      "execution_count": null,
      "metadata": {
        "id": "JdzkPpxTKMFw"
      },
      "outputs": [],
      "source": [
        "import pandas as pd\n",
        "import tensorflow as tf\n",
        "import numpy as np\n",
        "import keras"
      ]
    },
    {
      "cell_type": "code",
      "source": [
        "#load Training Data\n",
        "from google.colab import files\n",
        "uploaded = files.upload()"
      ],
      "metadata": {
        "id": "Y3NYhyw6KmYg"
      },
      "execution_count": null,
      "outputs": []
    },
    {
      "cell_type": "code",
      "source": [
        "#import training data into pandas dataframe\n",
        "import io\n",
        "dataframe_train = pd.read_csv(io.BytesIO(uploaded['adultData.csv']))"
      ],
      "metadata": {
        "id": "2Mfh-9yIML1U"
      },
      "execution_count": null,
      "outputs": []
    },
    {
      "cell_type": "code",
      "source": [
        "#get values in list\n",
        "temp_values = dataframe_train.values\n",
        "list_values = temp_values.tolist()\n",
        "train_vals = np.array(list_values)"
      ],
      "metadata": {
        "id": "8M9cY1UnP7c6"
      },
      "execution_count": null,
      "outputs": []
    },
    {
      "cell_type": "code",
      "source": [
        "#seperate training data into features and labels\n",
        "x_train= train_vals[:,0:14]\n",
        "y_train = train_vals[:,14]"
      ],
      "metadata": {
        "id": "nsOOnzGuT2Du"
      },
      "execution_count": null,
      "outputs": []
    },
    {
      "cell_type": "code",
      "source": [
        "#encode string features into integers using LabelEncoder \n",
        "from sklearn.preprocessing import LabelEncoder\n",
        "\n",
        "\n",
        "\n",
        "\n",
        "col_list=[1,3,5,6,7,8,9,13]\n",
        "\n",
        "for col in col_list:\n",
        "  data= [elem.strip() for elem in x_train[:,col]]\n",
        "  \n",
        "\n",
        "  values = np.array(data)\n",
        "\n",
        "\n",
        "  label_enc = LabelEncoder()\n",
        "  integer_enc = label_enc.fit_transform(values)\n",
        "  x_train[:,col] = integer_enc\n",
        " \n",
        "\n"
      ],
      "metadata": {
        "id": "QLVy_aTXmNOb"
      },
      "execution_count": null,
      "outputs": []
    },
    {
      "cell_type": "code",
      "source": [
        "#encode string labels into floats \n",
        "class_asfloat= {' <=50K': 0.0,' >50K': 1.0}\n",
        "\n",
        "for i in range(len(y_train)):\n",
        "  y_train[i] = class_asfloat[(y_train[i])]\n",
        "\n",
        "  "
      ],
      "metadata": {
        "id": "brFWFvYGDAXe"
      },
      "execution_count": null,
      "outputs": []
    },
    {
      "cell_type": "code",
      "source": [
        "#train neural network\n",
        "import matplotlib.pyplot as plt\n",
        "\n",
        "x_train = np.array(x_train).astype(int)\n",
        "y_train = np.array(y_train).astype(float)\n",
        "\n",
        "\n",
        "iterations = 100\n",
        "learning_rate = 0.01\n",
        "\n",
        "W = np.zeros(14, np.float32)\n",
        "b = np.zeros(1, np.float32) \n",
        " \n",
        "N, d = np.shape(x_train) \n",
        " \n",
        "\n",
        "for k in range(iterations):\n",
        "\n",
        "   for j in range(N):\n",
        "     #predicted label \n",
        "     y_pred = x_train[j, :].dot(W) + b \n",
        "     y_pred = 1.0 / (1.0 + np.exp(-y_pred))\n",
        "     \n",
        "     #backpropogation\n",
        "     error = y_train[j] - y_pred[0] \n",
        "     W_d = error * x_train[j, :]\n",
        "     B_d = error\n",
        "     W = W + learning_rate * W_d\n",
        "     b = b + learning_rate * B_d\n",
        "\n"
      ],
      "metadata": {
        "id": "8hKkJnUxTiO1"
      },
      "execution_count": null,
      "outputs": []
    },
    {
      "cell_type": "code",
      "source": [
        "#load Test Data\n",
        "from google.colab import files\n",
        "new = files.upload()"
      ],
      "metadata": {
        "id": "rA0kXFqkrD0b"
      },
      "execution_count": null,
      "outputs": []
    },
    {
      "cell_type": "code",
      "source": [
        "#import test data into pandas dataframe\n",
        "import io\n",
        "dataframe_test = pd.read_csv(io.BytesIO(new['adultTest.csv']))"
      ],
      "metadata": {
        "id": "JxTcuB8sref4"
      },
      "execution_count": null,
      "outputs": []
    },
    {
      "cell_type": "code",
      "source": [
        "#get values in list\n",
        "test_vals = dataframe_test.to_numpy()\n"
      ],
      "metadata": {
        "id": "Fi3hnujbumIp"
      },
      "execution_count": null,
      "outputs": []
    },
    {
      "cell_type": "code",
      "source": [
        "#seperate test data into features and labels\n",
        "x_test = test_vals[:,0:14]\n",
        "y_test = test_vals[:,14]"
      ],
      "metadata": {
        "id": "9HMiroSAuqSo"
      },
      "execution_count": null,
      "outputs": []
    },
    {
      "cell_type": "code",
      "source": [
        "#encode string features into integers using LabelEncoder \n",
        "from sklearn.preprocessing import LabelEncoder\n",
        "\n",
        "\n",
        "\n",
        "col_list=[1,3,5,6,7,8,9,13]\n",
        "\n",
        "for col in col_list:\n",
        "\n",
        "  data = [elem.strip() for elem in x_test[:,col]]\n",
        "\n",
        "\n",
        "  values = np.array(data)\n",
        "\n",
        "\n",
        "  label_enc = LabelEncoder()\n",
        "  integer_enc = label_enc.fit_transform(values)\n",
        "  x_test[:,col] = integer_enc"
      ],
      "metadata": {
        "id": "oxGZ2_UmPkty"
      },
      "execution_count": null,
      "outputs": []
    },
    {
      "cell_type": "code",
      "source": [
        "#encode string labels into floats \n",
        "\n",
        "class_asfloat = {' <=50K.': 0.0, ' >50K.': 1.0}\n",
        "for i in range(len(y_test)):\n",
        "  y_test[i] = class_asfloat[(y_test[i])]"
      ],
      "metadata": {
        "id": "2rzuLp5_PutK"
      },
      "execution_count": null,
      "outputs": []
    },
    {
      "cell_type": "code",
      "source": [
        "#test neural network on test data and report accuracy values\n",
        "\n",
        "x_test = np.array(x_test).astype(int)\n",
        "y_test = np.array(y_test).astype(float)\n",
        "\n",
        "\n",
        "correct =0\n",
        "female_correct = 0\n",
        "male_correct = 0\n",
        "female_total = 0\n",
        "male_total = 0\n",
        "\n",
        "N, d = np.shape(x_test) \n",
        "\n",
        "for j in range(N):\n",
        "\n",
        "  if x_test[j,9] == 1:\n",
        "    male_total+=1\n",
        "  if x_test[j,9] == 0:\n",
        "    female_total+=1\n",
        "\n",
        "  y_pred = x_test[j, :].dot(W) + b \n",
        "  y_pred = 1.0 / (1.0 + np.exp(-y_pred))\n",
        "  \n",
        "  if y_test[j] == y_pred[0]:\n",
        "    \n",
        "    if x_test[j,9] == 1:\n",
        "      male_correct+=1\n",
        "    if x_test[j,9] == 0:\n",
        "      female_correct+=1\n",
        "    \n",
        "    correct+=1\n",
        " \n",
        "print(correct/N)\n",
        "print(male_correct/male_total)\n",
        "print(female_correct/female_total)"
      ],
      "metadata": {
        "id": "qcKSP_mBQmk4"
      },
      "execution_count": null,
      "outputs": []
    },
    {
      "cell_type": "code",
      "source": [
        "Overall Model Accuracy : 0.7923218673218673 ~ 0.79\n",
        "Sex = Male Accuracy : 0.7384657887466618 ~ 0.73\n",
        "Sex = Female Accuracy : 0.9002029145914038 ~ 0.90\n",
        "Performance Gap between Male and Female : 0.161737125844742 ~ 0.16"
      ],
      "metadata": {
        "id": "g93aMferTHBs"
      },
      "execution_count": null,
      "outputs": []
    }
  ]
}